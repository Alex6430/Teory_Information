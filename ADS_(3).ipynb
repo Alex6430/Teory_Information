{
  "nbformat": 4,
  "nbformat_minor": 0,
  "metadata": {
    "kernelspec": {
      "display_name": "Python 3",
      "language": "python",
      "name": "python3"
    },
    "language_info": {
      "codemirror_mode": {
        "name": "ipython",
        "version": 3
      },
      "file_extension": ".py",
      "mimetype": "text/x-python",
      "name": "python",
      "nbconvert_exporter": "python",
      "pygments_lexer": "ipython3",
      "version": "3.6.1"
    },
    "colab": {
      "name": "ADS (3).ipynb",
      "provenance": [],
      "toc_visible": true,
      "include_colab_link": true
    }
  },
  "cells": [
    {
      "cell_type": "markdown",
      "metadata": {
        "id": "view-in-github",
        "colab_type": "text"
      },
      "source": [
        "<a href=\"https://colab.research.google.com/github/Alex6430/Teory_Information/blob/master/ADS_(3).ipynb\" target=\"_parent\"><img src=\"https://colab.research.google.com/assets/colab-badge.svg\" alt=\"Open In Colab\"/></a>"
      ]
    },
    {
      "cell_type": "markdown",
      "metadata": {
        "id": "Pke9oH1pUz_-",
        "colab_type": "text"
      },
      "source": [
        "### Анализ данных по синестезии"
      ]
    },
    {
      "cell_type": "code",
      "metadata": {
        "id": "a3CKoJIxU0AD",
        "colab_type": "code",
        "colab": {}
      },
      "source": [
        "import sklearn\n",
        "import pandas as pd\n",
        "import numpy as np"
      ],
      "execution_count": 1,
      "outputs": []
    },
    {
      "cell_type": "code",
      "metadata": {
        "id": "7GwhDKfPU0AR",
        "colab_type": "code",
        "colab": {}
      },
      "source": [
        "df = pd.read_excel(\"Ankety-sample.xlsx\", skiprows=3, header=1, index_col=0)"
      ],
      "execution_count": 2,
      "outputs": []
    },
    {
      "cell_type": "code",
      "metadata": {
        "id": "2S8MkZ3bU0Ae",
        "colab_type": "code",
        "colab": {
          "base_uri": "https://localhost:8080/",
          "height": 773
        },
        "outputId": "c7074897-4e36-4acd-dd39-65575c417aff"
      },
      "source": [
        "df.head()"
      ],
      "execution_count": 3,
      "outputs": [
        {
          "output_type": "execute_result",
          "data": {
            "text/html": [
              "<div>\n",
              "<style scoped>\n",
              "    .dataframe tbody tr th:only-of-type {\n",
              "        vertical-align: middle;\n",
              "    }\n",
              "\n",
              "    .dataframe tbody tr th {\n",
              "        vertical-align: top;\n",
              "    }\n",
              "\n",
              "    .dataframe thead th {\n",
              "        text-align: right;\n",
              "    }\n",
              "</style>\n",
              "<table border=\"1\" class=\"dataframe\">\n",
              "  <thead>\n",
              "    <tr style=\"text-align: right;\">\n",
              "      <th></th>\n",
              "      <th>Дата</th>\n",
              "      <th>utm_1</th>\n",
              "      <th>utm_2</th>\n",
              "      <th>utm_3</th>\n",
              "      <th>Дата рождения</th>\n",
              "      <th>Пол</th>\n",
              "      <th>Когда Вы видите, слышите или представляете какую-либо букву или цифру, то это вызывает у Вас ощущение цвета, вкуса, фактуры и т.д.</th>\n",
              "      <th>Названия дней недели (понедельник, вторник и т.д.) или месяцев (январь, февраль и т.д.) вызывают ли у Вас ощущение цвета?</th>\n",
              "      <th>Числа, буквы и/или названия интервалов времени, такие как дни недели и месяцы, мысленно представляются ли Вам в виде последовательности, располагающейся в трехмерном пространстве?</th>\n",
              "      <th>Звучание отдельных звуков, аккордов или мелодий, сыгранных на определенном музыкальном инструменте, вызывают ли у Вас ощущения цвета?</th>\n",
              "      <th>Числа, буквы и/или названия интервалов времени, такие как дни недели и месяцы, мысленно представляются ли Вам в виде отдельных качеств человека (добродушный, щедрый и т.д.) или в виде целой личности (веселый лысый старик, стремительная женщина и т.д.)?</th>\n",
              "      <th>Испытывая боль (например, головную), эмоции (сожаление или печаль) или оргазм, Вы переживаете ощущение цвета, вкуса или аромата?</th>\n",
              "      <th>При непосредственном взгляде на человека или при мысли о нем Вы ощущаете определенный цвет или целую гамму разных оттенков?</th>\n",
              "      <th>Прикосновение разного характера к различным частям Вашего тела сопровождается для Вас ощущением цвета. Например, при прикосновении к холодной или теплой воде Вы испытываете ощущение различной цветовой гаммы?</th>\n",
              "      <th>Определенный звук вызывает у Вас отчетливое ощущение вкуса, запаха или прикосновения. Например, при звуке тикающих часов у Вас во рту возникает кисловатый привкус или при звуке пролетающего самолета у Вас возникает отчетливое ощущение прикосновения?</th>\n",
              "      <th>При взгляде на картину, обстановку или определенное расположение предметов у Вас возникает отчетливое ощущение вкуса во рту, запаха или звука?</th>\n",
              "    </tr>\n",
              "    <tr>\n",
              "      <th>#</th>\n",
              "      <th></th>\n",
              "      <th></th>\n",
              "      <th></th>\n",
              "      <th></th>\n",
              "      <th></th>\n",
              "      <th></th>\n",
              "      <th></th>\n",
              "      <th></th>\n",
              "      <th></th>\n",
              "      <th></th>\n",
              "      <th></th>\n",
              "      <th></th>\n",
              "      <th></th>\n",
              "      <th></th>\n",
              "      <th></th>\n",
              "      <th></th>\n",
              "    </tr>\n",
              "  </thead>\n",
              "  <tbody>\n",
              "    <tr>\n",
              "      <th>8130220</th>\n",
              "      <td>2019-03-06 15:43:00</td>\n",
              "      <td>NaN</td>\n",
              "      <td>NaN</td>\n",
              "      <td>NaN</td>\n",
              "      <td>2019-03-08</td>\n",
              "      <td>M</td>\n",
              "      <td>Нет</td>\n",
              "      <td>Нет</td>\n",
              "      <td>Да</td>\n",
              "      <td>Нет</td>\n",
              "      <td>Нет</td>\n",
              "      <td>Нет</td>\n",
              "      <td>Нет</td>\n",
              "      <td>Нет</td>\n",
              "      <td>Нет</td>\n",
              "      <td>Нет</td>\n",
              "    </tr>\n",
              "    <tr>\n",
              "      <th>8071510</th>\n",
              "      <td>2019-02-28 12:35:00</td>\n",
              "      <td>NaN</td>\n",
              "      <td>NaN</td>\n",
              "      <td>NaN</td>\n",
              "      <td>2019-10-01</td>\n",
              "      <td>Ж</td>\n",
              "      <td>Да</td>\n",
              "      <td>Да</td>\n",
              "      <td>Нет</td>\n",
              "      <td>Да</td>\n",
              "      <td>Да</td>\n",
              "      <td>Да</td>\n",
              "      <td>Да</td>\n",
              "      <td>Нет</td>\n",
              "      <td>Да</td>\n",
              "      <td>Да</td>\n",
              "    </tr>\n",
              "    <tr>\n",
              "      <th>8056006</th>\n",
              "      <td>2019-02-26 18:30:00</td>\n",
              "      <td>NaN</td>\n",
              "      <td>NaN</td>\n",
              "      <td>NaN</td>\n",
              "      <td>2005-02-01</td>\n",
              "      <td>M</td>\n",
              "      <td>Да</td>\n",
              "      <td>Нет</td>\n",
              "      <td>Да</td>\n",
              "      <td>Да</td>\n",
              "      <td>Нет</td>\n",
              "      <td>Да</td>\n",
              "      <td>Нет</td>\n",
              "      <td>Да</td>\n",
              "      <td>Да</td>\n",
              "      <td>Да</td>\n",
              "    </tr>\n",
              "    <tr>\n",
              "      <th>8048214</th>\n",
              "      <td>2019-02-25 21:12:00</td>\n",
              "      <td>NaN</td>\n",
              "      <td>NaN</td>\n",
              "      <td>NaN</td>\n",
              "      <td>2019-06-22</td>\n",
              "      <td>Ж</td>\n",
              "      <td>Да</td>\n",
              "      <td>Да</td>\n",
              "      <td>Да</td>\n",
              "      <td>Нет</td>\n",
              "      <td>Нет</td>\n",
              "      <td>Нет</td>\n",
              "      <td>Да</td>\n",
              "      <td>Нет</td>\n",
              "      <td>Нет</td>\n",
              "      <td>Нет</td>\n",
              "    </tr>\n",
              "    <tr>\n",
              "      <th>7983449</th>\n",
              "      <td>2019-02-18 22:08:00</td>\n",
              "      <td>NaN</td>\n",
              "      <td>NaN</td>\n",
              "      <td>NaN</td>\n",
              "      <td>2003-10-20</td>\n",
              "      <td>M</td>\n",
              "      <td>Нет</td>\n",
              "      <td>Нет</td>\n",
              "      <td>Да</td>\n",
              "      <td>Нет</td>\n",
              "      <td>Да</td>\n",
              "      <td>Нет</td>\n",
              "      <td>Нет</td>\n",
              "      <td>Нет</td>\n",
              "      <td>Нет</td>\n",
              "      <td>Нет</td>\n",
              "    </tr>\n",
              "  </tbody>\n",
              "</table>\n",
              "</div>"
            ],
            "text/plain": [
              "                       Дата  ...  При взгляде на картину, обстановку или определенное расположение предметов у Вас возникает отчетливое ощущение вкуса во рту, запаха или звука?\n",
              "#                            ...                                                                                                                                                \n",
              "8130220 2019-03-06 15:43:00  ...                                                Нет                                                                                             \n",
              "8071510 2019-02-28 12:35:00  ...                                                 Да                                                                                             \n",
              "8056006 2019-02-26 18:30:00  ...                                                 Да                                                                                             \n",
              "8048214 2019-02-25 21:12:00  ...                                                Нет                                                                                             \n",
              "7983449 2019-02-18 22:08:00  ...                                                Нет                                                                                             \n",
              "\n",
              "[5 rows x 16 columns]"
            ]
          },
          "metadata": {
            "tags": []
          },
          "execution_count": 3
        }
      ]
    },
    {
      "cell_type": "code",
      "metadata": {
        "scrolled": true,
        "id": "EjmFlpJHU0Av",
        "colab_type": "code",
        "colab": {
          "base_uri": "https://localhost:8080/",
          "height": 436
        },
        "outputId": "1a21b54e-ac93-4a0c-9fc1-d033e425580f"
      },
      "source": [
        "df.info()"
      ],
      "execution_count": 4,
      "outputs": [
        {
          "output_type": "stream",
          "text": [
            "<class 'pandas.core.frame.DataFrame'>\n",
            "Int64Index: 25 entries, 8130220 to 7669285\n",
            "Data columns (total 16 columns):\n",
            " #   Column                                                                                                                                                                                                                                                        Non-Null Count  Dtype         \n",
            "---  ------                                                                                                                                                                                                                                                        --------------  -----         \n",
            " 0   Дата                                                                                                                                                                                                                                                          25 non-null     datetime64[ns]\n",
            " 1   utm_1                                                                                                                                                                                                                                                         0 non-null      float64       \n",
            " 2   utm_2                                                                                                                                                                                                                                                         0 non-null      float64       \n",
            " 3   utm_3                                                                                                                                                                                                                                                         0 non-null      float64       \n",
            " 4   Дата рождения                                                                                                                                                                                                                                                 25 non-null     datetime64[ns]\n",
            " 5   Пол                                                                                                                                                                                                                                                           25 non-null     object        \n",
            " 6   Когда Вы видите, слышите или представляете какую-либо букву или цифру, то это вызывает у Вас ощущение цвета, вкуса, фактуры и т.д.                                                                                                                            25 non-null     object        \n",
            " 7   Названия дней недели (понедельник, вторник и т.д.) или месяцев (январь, февраль и т.д.) вызывают ли у Вас ощущение цвета?                                                                                                                                     25 non-null     object        \n",
            " 8   Числа, буквы и/или названия интервалов времени, такие как дни недели и месяцы, мысленно представляются ли Вам в виде последовательности, располагающейся в трехмерном пространстве?                                                                           25 non-null     object        \n",
            " 9   Звучание отдельных звуков, аккордов или мелодий, сыгранных на определенном музыкальном инструменте, вызывают ли у Вас ощущения цвета?                                                                                                                         25 non-null     object        \n",
            " 10  Числа, буквы и/или названия интервалов времени, такие как дни недели и месяцы, мысленно представляются ли Вам в виде отдельных качеств человека (добродушный, щедрый и т.д.) или в виде целой личности (веселый лысый старик, стремительная женщина и т.д.)?  25 non-null     object        \n",
            " 11  Испытывая боль (например, головную), эмоции (сожаление или печаль) или оргазм, Вы переживаете ощущение цвета, вкуса или аромата?                                                                                                                              25 non-null     object        \n",
            " 12  При непосредственном взгляде на человека или при мысли о нем Вы ощущаете определенный цвет или целую гамму разных оттенков?                                                                                                                                   25 non-null     object        \n",
            " 13  Прикосновение разного характера к различным частям Вашего тела сопровождается для Вас ощущением цвета. Например, при прикосновении к холодной или теплой воде Вы испытываете ощущение различной цветовой гаммы?                                               25 non-null     object        \n",
            " 14  Определенный звук вызывает у Вас отчетливое ощущение вкуса, запаха или прикосновения. Например, при звуке тикающих часов у Вас во рту возникает кисловатый привкус или при звуке пролетающего самолета у Вас возникает отчетливое ощущение прикосновения?     25 non-null     object        \n",
            " 15  При взгляде на картину, обстановку или определенное расположение предметов у Вас возникает отчетливое ощущение вкуса во рту, запаха или звука?                                                                                                                25 non-null     object        \n",
            "dtypes: datetime64[ns](2), float64(3), object(11)\n",
            "memory usage: 3.3+ KB\n"
          ],
          "name": "stdout"
        }
      ]
    },
    {
      "cell_type": "code",
      "metadata": {
        "id": "67l2QMgcU0BF",
        "colab_type": "code",
        "colab": {}
      },
      "source": [
        "yes_no_dict = {'Да': 1, 'Нет': 0}"
      ],
      "execution_count": 5,
      "outputs": []
    },
    {
      "cell_type": "code",
      "metadata": {
        "id": "W5cdPPcVU0BQ",
        "colab_type": "code",
        "colab": {}
      },
      "source": [
        "for column in df.columns[6:]:\n",
        "    df[column] = df[column].replace(yes_no_dict)"
      ],
      "execution_count": 6,
      "outputs": []
    },
    {
      "cell_type": "code",
      "metadata": {
        "id": "fyMPX6NfU0Ba",
        "colab_type": "code",
        "colab": {}
      },
      "source": [
        "data = df.iloc[:,6:].copy()"
      ],
      "execution_count": 7,
      "outputs": []
    },
    {
      "cell_type": "code",
      "metadata": {
        "id": "SlHqiEOGU0Bo",
        "colab_type": "code",
        "colab": {
          "base_uri": "https://localhost:8080/",
          "height": 599
        },
        "outputId": "2940d1fe-6ec6-42f3-fcf3-7547f22fd2c5"
      },
      "source": [
        "data.head()"
      ],
      "execution_count": 8,
      "outputs": [
        {
          "output_type": "execute_result",
          "data": {
            "text/html": [
              "<div>\n",
              "<style scoped>\n",
              "    .dataframe tbody tr th:only-of-type {\n",
              "        vertical-align: middle;\n",
              "    }\n",
              "\n",
              "    .dataframe tbody tr th {\n",
              "        vertical-align: top;\n",
              "    }\n",
              "\n",
              "    .dataframe thead th {\n",
              "        text-align: right;\n",
              "    }\n",
              "</style>\n",
              "<table border=\"1\" class=\"dataframe\">\n",
              "  <thead>\n",
              "    <tr style=\"text-align: right;\">\n",
              "      <th></th>\n",
              "      <th>Когда Вы видите, слышите или представляете какую-либо букву или цифру, то это вызывает у Вас ощущение цвета, вкуса, фактуры и т.д.</th>\n",
              "      <th>Названия дней недели (понедельник, вторник и т.д.) или месяцев (январь, февраль и т.д.) вызывают ли у Вас ощущение цвета?</th>\n",
              "      <th>Числа, буквы и/или названия интервалов времени, такие как дни недели и месяцы, мысленно представляются ли Вам в виде последовательности, располагающейся в трехмерном пространстве?</th>\n",
              "      <th>Звучание отдельных звуков, аккордов или мелодий, сыгранных на определенном музыкальном инструменте, вызывают ли у Вас ощущения цвета?</th>\n",
              "      <th>Числа, буквы и/или названия интервалов времени, такие как дни недели и месяцы, мысленно представляются ли Вам в виде отдельных качеств человека (добродушный, щедрый и т.д.) или в виде целой личности (веселый лысый старик, стремительная женщина и т.д.)?</th>\n",
              "      <th>Испытывая боль (например, головную), эмоции (сожаление или печаль) или оргазм, Вы переживаете ощущение цвета, вкуса или аромата?</th>\n",
              "      <th>При непосредственном взгляде на человека или при мысли о нем Вы ощущаете определенный цвет или целую гамму разных оттенков?</th>\n",
              "      <th>Прикосновение разного характера к различным частям Вашего тела сопровождается для Вас ощущением цвета. Например, при прикосновении к холодной или теплой воде Вы испытываете ощущение различной цветовой гаммы?</th>\n",
              "      <th>Определенный звук вызывает у Вас отчетливое ощущение вкуса, запаха или прикосновения. Например, при звуке тикающих часов у Вас во рту возникает кисловатый привкус или при звуке пролетающего самолета у Вас возникает отчетливое ощущение прикосновения?</th>\n",
              "      <th>При взгляде на картину, обстановку или определенное расположение предметов у Вас возникает отчетливое ощущение вкуса во рту, запаха или звука?</th>\n",
              "    </tr>\n",
              "    <tr>\n",
              "      <th>#</th>\n",
              "      <th></th>\n",
              "      <th></th>\n",
              "      <th></th>\n",
              "      <th></th>\n",
              "      <th></th>\n",
              "      <th></th>\n",
              "      <th></th>\n",
              "      <th></th>\n",
              "      <th></th>\n",
              "      <th></th>\n",
              "    </tr>\n",
              "  </thead>\n",
              "  <tbody>\n",
              "    <tr>\n",
              "      <th>8130220</th>\n",
              "      <td>0</td>\n",
              "      <td>0</td>\n",
              "      <td>1</td>\n",
              "      <td>0</td>\n",
              "      <td>0</td>\n",
              "      <td>0</td>\n",
              "      <td>0</td>\n",
              "      <td>0</td>\n",
              "      <td>0</td>\n",
              "      <td>0</td>\n",
              "    </tr>\n",
              "    <tr>\n",
              "      <th>8071510</th>\n",
              "      <td>1</td>\n",
              "      <td>1</td>\n",
              "      <td>0</td>\n",
              "      <td>1</td>\n",
              "      <td>1</td>\n",
              "      <td>1</td>\n",
              "      <td>1</td>\n",
              "      <td>0</td>\n",
              "      <td>1</td>\n",
              "      <td>1</td>\n",
              "    </tr>\n",
              "    <tr>\n",
              "      <th>8056006</th>\n",
              "      <td>1</td>\n",
              "      <td>0</td>\n",
              "      <td>1</td>\n",
              "      <td>1</td>\n",
              "      <td>0</td>\n",
              "      <td>1</td>\n",
              "      <td>0</td>\n",
              "      <td>1</td>\n",
              "      <td>1</td>\n",
              "      <td>1</td>\n",
              "    </tr>\n",
              "    <tr>\n",
              "      <th>8048214</th>\n",
              "      <td>1</td>\n",
              "      <td>1</td>\n",
              "      <td>1</td>\n",
              "      <td>0</td>\n",
              "      <td>0</td>\n",
              "      <td>0</td>\n",
              "      <td>1</td>\n",
              "      <td>0</td>\n",
              "      <td>0</td>\n",
              "      <td>0</td>\n",
              "    </tr>\n",
              "    <tr>\n",
              "      <th>7983449</th>\n",
              "      <td>0</td>\n",
              "      <td>0</td>\n",
              "      <td>1</td>\n",
              "      <td>0</td>\n",
              "      <td>1</td>\n",
              "      <td>0</td>\n",
              "      <td>0</td>\n",
              "      <td>0</td>\n",
              "      <td>0</td>\n",
              "      <td>0</td>\n",
              "    </tr>\n",
              "  </tbody>\n",
              "</table>\n",
              "</div>"
            ],
            "text/plain": [
              "         Когда Вы видите, слышите или представляете какую-либо букву или цифру, то это вызывает у Вас ощущение цвета, вкуса, фактуры и т.д.   ...  При взгляде на картину, обстановку или определенное расположение предметов у Вас возникает отчетливое ощущение вкуса во рту, запаха или звука?\n",
              "#                                                                                                                                             ...                                                                                                                                                \n",
              "8130220                                                  0                                                                                    ...                                                  0                                                                                             \n",
              "8071510                                                  1                                                                                    ...                                                  1                                                                                             \n",
              "8056006                                                  1                                                                                    ...                                                  1                                                                                             \n",
              "8048214                                                  1                                                                                    ...                                                  0                                                                                             \n",
              "7983449                                                  0                                                                                    ...                                                  0                                                                                             \n",
              "\n",
              "[5 rows x 10 columns]"
            ]
          },
          "metadata": {
            "tags": []
          },
          "execution_count": 8
        }
      ]
    },
    {
      "cell_type": "code",
      "metadata": {
        "id": "jO5oQ2YHU0Bz",
        "colab_type": "code",
        "colab": {
          "base_uri": "https://localhost:8080/",
          "height": 35
        },
        "outputId": "c8e27392-6e1e-4288-9600-f0c9a9f55a11"
      },
      "source": [
        "data.shape"
      ],
      "execution_count": 9,
      "outputs": [
        {
          "output_type": "execute_result",
          "data": {
            "text/plain": [
              "(25, 10)"
            ]
          },
          "metadata": {
            "tags": []
          },
          "execution_count": 9
        }
      ]
    },
    {
      "cell_type": "code",
      "metadata": {
        "id": "uNo2BBn8U0B6",
        "colab_type": "code",
        "colab": {}
      },
      "source": [
        "from sklearn.cluster import KMeans\n",
        "kmeans = KMeans(n_clusters=4, n_init=10)\n",
        "target = kmeans.fit_predict(data)"
      ],
      "execution_count": 10,
      "outputs": []
    },
    {
      "cell_type": "code",
      "metadata": {
        "id": "hw2nB6ZwU0CA",
        "colab_type": "code",
        "colab": {
          "base_uri": "https://localhost:8080/",
          "height": 35
        },
        "outputId": "23777660-e41e-489b-b5e1-0b36b0ce0b4f"
      },
      "source": [
        "from sklearn.metrics import silhouette_score\n",
        "silhouette_score(data, target)"
      ],
      "execution_count": 11,
      "outputs": [
        {
          "output_type": "execute_result",
          "data": {
            "text/plain": [
              "0.2910837908608922"
            ]
          },
          "metadata": {
            "tags": []
          },
          "execution_count": 11
        }
      ]
    },
    {
      "cell_type": "code",
      "metadata": {
        "id": "Z4L7d75PU0CF",
        "colab_type": "code",
        "colab": {}
      },
      "source": [
        "all_silh = []\n",
        "for n_clusters in range(2,20):\n",
        "    kmeans = KMeans(n_clusters=n_clusters, n_init=10)\n",
        "    target = kmeans.fit_predict(data)\n",
        "    all_silh.append(silhouette_score(data, target))"
      ],
      "execution_count": 12,
      "outputs": []
    },
    {
      "cell_type": "code",
      "metadata": {
        "id": "qOr0vgLRU0CM",
        "colab_type": "code",
        "colab": {
          "base_uri": "https://localhost:8080/",
          "height": 329
        },
        "outputId": "ec0bd057-585f-4b36-e556-db6e30e8939c"
      },
      "source": [
        "all_silh"
      ],
      "execution_count": 13,
      "outputs": [
        {
          "output_type": "execute_result",
          "data": {
            "text/plain": [
              "[0.3571576807153771,\n",
              " 0.2665237551526321,\n",
              " 0.2903912673924539,\n",
              " 0.29110168117951973,\n",
              " 0.29888382366563654,\n",
              " 0.34459595798628856,\n",
              " 0.3811503987442269,\n",
              " 0.40352024251243945,\n",
              " 0.44433430108846816,\n",
              " 0.4706782338335397,\n",
              " 0.4706782338335397,\n",
              " 0.49213845170340953,\n",
              " 0.5166692700966292,\n",
              " 0.4806748934749823,\n",
              " 0.5146737479860428,\n",
              " 0.4803374467374911,\n",
              " 0.46862171798495306,\n",
              " 0.44]"
            ]
          },
          "metadata": {
            "tags": []
          },
          "execution_count": 13
        }
      ]
    },
    {
      "cell_type": "code",
      "metadata": {
        "id": "Ejw5dNj3U0CR",
        "colab_type": "code",
        "colab": {
          "base_uri": "https://localhost:8080/",
          "height": 35
        },
        "outputId": "f2d4f8ff-9ccd-4599-9398-a81176c42519"
      },
      "source": [
        "from sklearn.decomposition import PCA\n",
        "\n",
        "pca_2 = PCA(n_components=2)\n",
        "data_2d = pca_2.fit_transform(data)\n",
        "pca_2.explained_variance_ratio_"
      ],
      "execution_count": 14,
      "outputs": [
        {
          "output_type": "execute_result",
          "data": {
            "text/plain": [
              "array([0.44063142, 0.15449109])"
            ]
          },
          "metadata": {
            "tags": []
          },
          "execution_count": 14
        }
      ]
    },
    {
      "cell_type": "code",
      "metadata": {
        "id": "CThYZg91U0CX",
        "colab_type": "code",
        "colab": {
          "base_uri": "https://localhost:8080/",
          "height": 555
        },
        "outputId": "9880c5aa-7bdf-4e9a-87f0-7e061fce6fb7"
      },
      "source": [
        "import matplotlib\n",
        "from matplotlib import pyplot as plt\n",
        "\n",
        "kmeans = KMeans(n_clusters=13, n_init=10)\n",
        "target_2d = kmeans.fit_predict(data)\n",
        "\n",
        "colors = ['tomato', 'forestgreen', 'navy', 'gold']\n",
        "\n",
        "plt.figure(figsize=(9,9))\n",
        "plt.scatter(data_2d[:,0], data_2d[:,1], \n",
        "            c=target_2d, \n",
        "            cmap=matplotlib.colors.ListedColormap(colors))"
      ],
      "execution_count": 15,
      "outputs": [
        {
          "output_type": "execute_result",
          "data": {
            "text/plain": [
              "<matplotlib.collections.PathCollection at 0x7fc08ee3c2e8>"
            ]
          },
          "metadata": {
            "tags": []
          },
          "execution_count": 15
        },
        {
          "output_type": "display_data",
          "data": {
            "image/png": "[encoded data removed]",
            "text/plain": [
              "<Figure size 648x648 with 1 Axes>"
            ]
          },
          "metadata": {
            "tags": [],
            "needs_background": "light"
          }
        }
      ]
    },
    {
      "cell_type": "code",
      "metadata": {
        "id": "EtSLS0h9U0Cd",
        "colab_type": "code",
        "colab": {
          "base_uri": "https://localhost:8080/",
          "height": 555
        },
        "outputId": "d40227a4-9d29-46b5-a769-9f79d2397356"
      },
      "source": [
        "kmeans = KMeans(n_clusters=4, n_init=10)\n",
        "target_2d = kmeans.fit_predict(data)\n",
        "\n",
        "colors = ['tomato', 'forestgreen', 'navy', 'gold']\n",
        "\n",
        "plt.figure(figsize=(9,9))\n",
        "plt.scatter(data_2d[:,0], data_2d[:,1], \n",
        "            c=target_2d, \n",
        "            cmap=matplotlib.colors.ListedColormap(colors))"
      ],
      "execution_count": 16,
      "outputs": [
        {
          "output_type": "execute_result",
          "data": {
            "text/plain": [
              "<matplotlib.collections.PathCollection at 0x7fc08e90f198>"
            ]
          },
          "metadata": {
            "tags": []
          },
          "execution_count": 16
        },
        {
          "output_type": "display_data",
          "data": {
            "image/png": "[encoded data removed]",
            "text/plain": [
              "<Figure size 648x648 with 1 Axes>"
            ]
          },
          "metadata": {
            "tags": [],
            "needs_background": "light"
          }
        }
      ]
    },
    {
      "cell_type": "code",
      "metadata": {
        "id": "-lwMVn0pU0Cj",
        "colab_type": "code",
        "colab": {
          "base_uri": "https://localhost:8080/",
          "height": 35
        },
        "outputId": "d9706f4a-dc54-4d63-8c99-63c34b5f1acb"
      },
      "source": [
        "pca_3 = PCA(n_components=3)\n",
        "data_3d = pca_3.fit_transform(data)\n",
        "pca_3.explained_variance_ratio_"
      ],
      "execution_count": 17,
      "outputs": [
        {
          "output_type": "execute_result",
          "data": {
            "text/plain": [
              "array([0.44063142, 0.15449109, 0.12726717])"
            ]
          },
          "metadata": {
            "tags": []
          },
          "execution_count": 17
        }
      ]
    },
    {
      "cell_type": "markdown",
      "metadata": {
        "id": "KoiO5bTBU0Co",
        "colab_type": "text"
      },
      "source": [
        "#### Визуализация различных групп в 3D"
      ]
    },
    {
      "cell_type": "code",
      "metadata": {
        "id": "Cj8tP7OdU0Cp",
        "colab_type": "code",
        "colab": {
          "base_uri": "https://localhost:8080/",
          "height": 622
        },
        "outputId": "8e05cafd-32d6-4a38-bbbb-83ca360540fa"
      },
      "source": [
        "from mpl_toolkits.mplot3d import Axes3D\n",
        "\n",
        "kmeans = KMeans(n_clusters=4, n_init=10)\n",
        "target_3d = kmeans.fit_predict(data)\n",
        "\n",
        "fig = plt.figure(figsize=(15,11))\n",
        "ax = fig.add_subplot(111, projection='3d')\n",
        "ax.scatter(data_3d[:,0], data_3d[:,1], data_3d[:,2],\n",
        "           c=target_3d, \n",
        "           cmap=matplotlib.colors.ListedColormap(colors))"
      ],
      "execution_count": 18,
      "outputs": [
        {
          "output_type": "execute_result",
          "data": {
            "text/plain": [
              "<mpl_toolkits.mplot3d.art3d.Path3DCollection at 0x7fc08e8f9d30>"
            ]
          },
          "metadata": {
            "tags": []
          },
          "execution_count": 18
        },
        {
          "output_type": "display_data",
          "data": {
            "image/png": "[encoded data removed]",
            "text/plain": [
              "<Figure size 1080x792 with 1 Axes>"
            ]
          },
          "metadata": {
            "tags": [],
            "needs_background": "light"
          }
        }
      ]
    },
    {
      "cell_type": "code",
      "metadata": {
        "id": "kiV9TmgjU0Ct",
        "colab_type": "code",
        "colab": {
          "base_uri": "https://localhost:8080/",
          "height": 622
        },
        "outputId": "3ab9049f-739a-4eb1-ab1b-854ef1969f02"
      },
      "source": [
        "kmeans = KMeans(n_clusters=3, n_init=10)\n",
        "target_3d = kmeans.fit_predict(data)\n",
        "\n",
        "fig = plt.figure(figsize=(15,11))\n",
        "ax = fig.add_subplot(111, projection='3d')\n",
        "ax.scatter(data_3d[:,0], data_3d[:,1], data_3d[:,2],\n",
        "           c=target_3d, \n",
        "           cmap=matplotlib.colors.ListedColormap(colors))"
      ],
      "execution_count": 19,
      "outputs": [
        {
          "output_type": "execute_result",
          "data": {
            "text/plain": [
              "<mpl_toolkits.mplot3d.art3d.Path3DCollection at 0x7fc08a80a668>"
            ]
          },
          "metadata": {
            "tags": []
          },
          "execution_count": 19
        },
        {
          "output_type": "display_data",
          "data": {
            "image/png": "[encoded data removed]",
            "text/plain": [
              "<Figure size 1080x792 with 1 Axes>"
            ]
          },
          "metadata": {
            "tags": [],
            "needs_background": "light"
          }
        }
      ]
    },
    {
      "cell_type": "markdown",
      "metadata": {
        "id": "vxl-f-ECU0C0",
        "colab_type": "text"
      },
      "source": [
        "### Анализ групп людей"
      ]
    },
    {
      "cell_type": "markdown",
      "metadata": {
        "id": "YUElAfFtU0C1",
        "colab_type": "text"
      },
      "source": [
        "Первая группа имеет ярко выраженную __временную__ синестезию - реакцию на числа/промежутки времени. "
      ]
    },
    {
      "cell_type": "code",
      "metadata": {
        "id": "UhTzpaA4U0C2",
        "colab_type": "code",
        "colab": {
          "base_uri": "https://localhost:8080/",
          "height": 783
        },
        "outputId": "418b763d-0359-4365-84f9-64353bee1608"
      },
      "source": [
        "data.iloc[np.where(target_3d==0)[0],:]"
      ],
      "execution_count": 20,
      "outputs": [
        {
          "output_type": "execute_result",
          "data": {
            "text/html": [
              "<div>\n",
              "<style scoped>\n",
              "    .dataframe tbody tr th:only-of-type {\n",
              "        vertical-align: middle;\n",
              "    }\n",
              "\n",
              "    .dataframe tbody tr th {\n",
              "        vertical-align: top;\n",
              "    }\n",
              "\n",
              "    .dataframe thead th {\n",
              "        text-align: right;\n",
              "    }\n",
              "</style>\n",
              "<table border=\"1\" class=\"dataframe\">\n",
              "  <thead>\n",
              "    <tr style=\"text-align: right;\">\n",
              "      <th></th>\n",
              "      <th>Когда Вы видите, слышите или представляете какую-либо букву или цифру, то это вызывает у Вас ощущение цвета, вкуса, фактуры и т.д.</th>\n",
              "      <th>Названия дней недели (понедельник, вторник и т.д.) или месяцев (январь, февраль и т.д.) вызывают ли у Вас ощущение цвета?</th>\n",
              "      <th>Числа, буквы и/или названия интервалов времени, такие как дни недели и месяцы, мысленно представляются ли Вам в виде последовательности, располагающейся в трехмерном пространстве?</th>\n",
              "      <th>Звучание отдельных звуков, аккордов или мелодий, сыгранных на определенном музыкальном инструменте, вызывают ли у Вас ощущения цвета?</th>\n",
              "      <th>Числа, буквы и/или названия интервалов времени, такие как дни недели и месяцы, мысленно представляются ли Вам в виде отдельных качеств человека (добродушный, щедрый и т.д.) или в виде целой личности (веселый лысый старик, стремительная женщина и т.д.)?</th>\n",
              "      <th>Испытывая боль (например, головную), эмоции (сожаление или печаль) или оргазм, Вы переживаете ощущение цвета, вкуса или аромата?</th>\n",
              "      <th>При непосредственном взгляде на человека или при мысли о нем Вы ощущаете определенный цвет или целую гамму разных оттенков?</th>\n",
              "      <th>Прикосновение разного характера к различным частям Вашего тела сопровождается для Вас ощущением цвета. Например, при прикосновении к холодной или теплой воде Вы испытываете ощущение различной цветовой гаммы?</th>\n",
              "      <th>Определенный звук вызывает у Вас отчетливое ощущение вкуса, запаха или прикосновения. Например, при звуке тикающих часов у Вас во рту возникает кисловатый привкус или при звуке пролетающего самолета у Вас возникает отчетливое ощущение прикосновения?</th>\n",
              "      <th>При взгляде на картину, обстановку или определенное расположение предметов у Вас возникает отчетливое ощущение вкуса во рту, запаха или звука?</th>\n",
              "    </tr>\n",
              "    <tr>\n",
              "      <th>#</th>\n",
              "      <th></th>\n",
              "      <th></th>\n",
              "      <th></th>\n",
              "      <th></th>\n",
              "      <th></th>\n",
              "      <th></th>\n",
              "      <th></th>\n",
              "      <th></th>\n",
              "      <th></th>\n",
              "      <th></th>\n",
              "    </tr>\n",
              "  </thead>\n",
              "  <tbody>\n",
              "    <tr>\n",
              "      <th>8130220</th>\n",
              "      <td>0</td>\n",
              "      <td>0</td>\n",
              "      <td>1</td>\n",
              "      <td>0</td>\n",
              "      <td>0</td>\n",
              "      <td>0</td>\n",
              "      <td>0</td>\n",
              "      <td>0</td>\n",
              "      <td>0</td>\n",
              "      <td>0</td>\n",
              "    </tr>\n",
              "    <tr>\n",
              "      <th>7983449</th>\n",
              "      <td>0</td>\n",
              "      <td>0</td>\n",
              "      <td>1</td>\n",
              "      <td>0</td>\n",
              "      <td>1</td>\n",
              "      <td>0</td>\n",
              "      <td>0</td>\n",
              "      <td>0</td>\n",
              "      <td>0</td>\n",
              "      <td>0</td>\n",
              "    </tr>\n",
              "    <tr>\n",
              "      <th>7982616</th>\n",
              "      <td>0</td>\n",
              "      <td>0</td>\n",
              "      <td>1</td>\n",
              "      <td>0</td>\n",
              "      <td>0</td>\n",
              "      <td>0</td>\n",
              "      <td>0</td>\n",
              "      <td>0</td>\n",
              "      <td>0</td>\n",
              "      <td>0</td>\n",
              "    </tr>\n",
              "    <tr>\n",
              "      <th>7902198</th>\n",
              "      <td>0</td>\n",
              "      <td>0</td>\n",
              "      <td>0</td>\n",
              "      <td>0</td>\n",
              "      <td>0</td>\n",
              "      <td>0</td>\n",
              "      <td>0</td>\n",
              "      <td>0</td>\n",
              "      <td>0</td>\n",
              "      <td>0</td>\n",
              "    </tr>\n",
              "    <tr>\n",
              "      <th>7875302</th>\n",
              "      <td>0</td>\n",
              "      <td>1</td>\n",
              "      <td>1</td>\n",
              "      <td>0</td>\n",
              "      <td>0</td>\n",
              "      <td>0</td>\n",
              "      <td>0</td>\n",
              "      <td>0</td>\n",
              "      <td>0</td>\n",
              "      <td>0</td>\n",
              "    </tr>\n",
              "    <tr>\n",
              "      <th>7830111</th>\n",
              "      <td>0</td>\n",
              "      <td>1</td>\n",
              "      <td>1</td>\n",
              "      <td>0</td>\n",
              "      <td>0</td>\n",
              "      <td>0</td>\n",
              "      <td>0</td>\n",
              "      <td>0</td>\n",
              "      <td>0</td>\n",
              "      <td>0</td>\n",
              "    </tr>\n",
              "    <tr>\n",
              "      <th>7822804</th>\n",
              "      <td>0</td>\n",
              "      <td>0</td>\n",
              "      <td>1</td>\n",
              "      <td>0</td>\n",
              "      <td>0</td>\n",
              "      <td>1</td>\n",
              "      <td>1</td>\n",
              "      <td>0</td>\n",
              "      <td>0</td>\n",
              "      <td>0</td>\n",
              "    </tr>\n",
              "    <tr>\n",
              "      <th>7740095</th>\n",
              "      <td>1</td>\n",
              "      <td>0</td>\n",
              "      <td>0</td>\n",
              "      <td>0</td>\n",
              "      <td>0</td>\n",
              "      <td>0</td>\n",
              "      <td>0</td>\n",
              "      <td>0</td>\n",
              "      <td>0</td>\n",
              "      <td>0</td>\n",
              "    </tr>\n",
              "    <tr>\n",
              "      <th>7738896</th>\n",
              "      <td>0</td>\n",
              "      <td>0</td>\n",
              "      <td>1</td>\n",
              "      <td>0</td>\n",
              "      <td>0</td>\n",
              "      <td>0</td>\n",
              "      <td>0</td>\n",
              "      <td>0</td>\n",
              "      <td>0</td>\n",
              "      <td>0</td>\n",
              "    </tr>\n",
              "    <tr>\n",
              "      <th>7711994</th>\n",
              "      <td>0</td>\n",
              "      <td>0</td>\n",
              "      <td>0</td>\n",
              "      <td>0</td>\n",
              "      <td>0</td>\n",
              "      <td>0</td>\n",
              "      <td>0</td>\n",
              "      <td>0</td>\n",
              "      <td>0</td>\n",
              "      <td>0</td>\n",
              "    </tr>\n",
              "    <tr>\n",
              "      <th>7669285</th>\n",
              "      <td>0</td>\n",
              "      <td>1</td>\n",
              "      <td>1</td>\n",
              "      <td>0</td>\n",
              "      <td>0</td>\n",
              "      <td>1</td>\n",
              "      <td>0</td>\n",
              "      <td>0</td>\n",
              "      <td>0</td>\n",
              "      <td>0</td>\n",
              "    </tr>\n",
              "  </tbody>\n",
              "</table>\n",
              "</div>"
            ],
            "text/plain": [
              "         Когда Вы видите, слышите или представляете какую-либо букву или цифру, то это вызывает у Вас ощущение цвета, вкуса, фактуры и т.д.   ...  При взгляде на картину, обстановку или определенное расположение предметов у Вас возникает отчетливое ощущение вкуса во рту, запаха или звука?\n",
              "#                                                                                                                                             ...                                                                                                                                                \n",
              "8130220                                                  0                                                                                    ...                                                  0                                                                                             \n",
              "7983449                                                  0                                                                                    ...                                                  0                                                                                             \n",
              "7982616                                                  0                                                                                    ...                                                  0                                                                                             \n",
              "7902198                                                  0                                                                                    ...                                                  0                                                                                             \n",
              "7875302                                                  0                                                                                    ...                                                  0                                                                                             \n",
              "7830111                                                  0                                                                                    ...                                                  0                                                                                             \n",
              "7822804                                                  0                                                                                    ...                                                  0                                                                                             \n",
              "7740095                                                  1                                                                                    ...                                                  0                                                                                             \n",
              "7738896                                                  0                                                                                    ...                                                  0                                                                                             \n",
              "7711994                                                  0                                                                                    ...                                                  0                                                                                             \n",
              "7669285                                                  0                                                                                    ...                                                  0                                                                                             \n",
              "\n",
              "[11 rows x 10 columns]"
            ]
          },
          "metadata": {
            "tags": []
          },
          "execution_count": 20
        }
      ]
    },
    {
      "cell_type": "markdown",
      "metadata": {
        "id": "0o82OnXLU0C6",
        "colab_type": "text"
      },
      "source": [
        "Во второй группе сосредоточены разнообразные __цветовые__ реакции, для вычленения более точного паттерна недостаточно данных. Возможно, какие-то особенности зрительной коры, не связанные с источником стимула."
      ]
    },
    {
      "cell_type": "code",
      "metadata": {
        "id": "1BvO1X-rU0C7",
        "colab_type": "code",
        "colab": {
          "base_uri": "https://localhost:8080/",
          "height": 661
        },
        "outputId": "312b7cb7-bc1b-4e15-c521-c447ac13581c"
      },
      "source": [
        "data.iloc[np.where(target_3d==1)[0],:]"
      ],
      "execution_count": 21,
      "outputs": [
        {
          "output_type": "execute_result",
          "data": {
            "text/html": [
              "<div>\n",
              "<style scoped>\n",
              "    .dataframe tbody tr th:only-of-type {\n",
              "        vertical-align: middle;\n",
              "    }\n",
              "\n",
              "    .dataframe tbody tr th {\n",
              "        vertical-align: top;\n",
              "    }\n",
              "\n",
              "    .dataframe thead th {\n",
              "        text-align: right;\n",
              "    }\n",
              "</style>\n",
              "<table border=\"1\" class=\"dataframe\">\n",
              "  <thead>\n",
              "    <tr style=\"text-align: right;\">\n",
              "      <th></th>\n",
              "      <th>Когда Вы видите, слышите или представляете какую-либо букву или цифру, то это вызывает у Вас ощущение цвета, вкуса, фактуры и т.д.</th>\n",
              "      <th>Названия дней недели (понедельник, вторник и т.д.) или месяцев (январь, февраль и т.д.) вызывают ли у Вас ощущение цвета?</th>\n",
              "      <th>Числа, буквы и/или названия интервалов времени, такие как дни недели и месяцы, мысленно представляются ли Вам в виде последовательности, располагающейся в трехмерном пространстве?</th>\n",
              "      <th>Звучание отдельных звуков, аккордов или мелодий, сыгранных на определенном музыкальном инструменте, вызывают ли у Вас ощущения цвета?</th>\n",
              "      <th>Числа, буквы и/или названия интервалов времени, такие как дни недели и месяцы, мысленно представляются ли Вам в виде отдельных качеств человека (добродушный, щедрый и т.д.) или в виде целой личности (веселый лысый старик, стремительная женщина и т.д.)?</th>\n",
              "      <th>Испытывая боль (например, головную), эмоции (сожаление или печаль) или оргазм, Вы переживаете ощущение цвета, вкуса или аромата?</th>\n",
              "      <th>При непосредственном взгляде на человека или при мысли о нем Вы ощущаете определенный цвет или целую гамму разных оттенков?</th>\n",
              "      <th>Прикосновение разного характера к различным частям Вашего тела сопровождается для Вас ощущением цвета. Например, при прикосновении к холодной или теплой воде Вы испытываете ощущение различной цветовой гаммы?</th>\n",
              "      <th>Определенный звук вызывает у Вас отчетливое ощущение вкуса, запаха или прикосновения. Например, при звуке тикающих часов у Вас во рту возникает кисловатый привкус или при звуке пролетающего самолета у Вас возникает отчетливое ощущение прикосновения?</th>\n",
              "      <th>При взгляде на картину, обстановку или определенное расположение предметов у Вас возникает отчетливое ощущение вкуса во рту, запаха или звука?</th>\n",
              "    </tr>\n",
              "    <tr>\n",
              "      <th>#</th>\n",
              "      <th></th>\n",
              "      <th></th>\n",
              "      <th></th>\n",
              "      <th></th>\n",
              "      <th></th>\n",
              "      <th></th>\n",
              "      <th></th>\n",
              "      <th></th>\n",
              "      <th></th>\n",
              "      <th></th>\n",
              "    </tr>\n",
              "  </thead>\n",
              "  <tbody>\n",
              "    <tr>\n",
              "      <th>8071510</th>\n",
              "      <td>1</td>\n",
              "      <td>1</td>\n",
              "      <td>0</td>\n",
              "      <td>1</td>\n",
              "      <td>1</td>\n",
              "      <td>1</td>\n",
              "      <td>1</td>\n",
              "      <td>0</td>\n",
              "      <td>1</td>\n",
              "      <td>1</td>\n",
              "    </tr>\n",
              "    <tr>\n",
              "      <th>8056006</th>\n",
              "      <td>1</td>\n",
              "      <td>0</td>\n",
              "      <td>1</td>\n",
              "      <td>1</td>\n",
              "      <td>0</td>\n",
              "      <td>1</td>\n",
              "      <td>0</td>\n",
              "      <td>1</td>\n",
              "      <td>1</td>\n",
              "      <td>1</td>\n",
              "    </tr>\n",
              "    <tr>\n",
              "      <th>7983378</th>\n",
              "      <td>1</td>\n",
              "      <td>1</td>\n",
              "      <td>1</td>\n",
              "      <td>1</td>\n",
              "      <td>1</td>\n",
              "      <td>1</td>\n",
              "      <td>1</td>\n",
              "      <td>1</td>\n",
              "      <td>0</td>\n",
              "      <td>1</td>\n",
              "    </tr>\n",
              "    <tr>\n",
              "      <th>7960012</th>\n",
              "      <td>1</td>\n",
              "      <td>1</td>\n",
              "      <td>0</td>\n",
              "      <td>1</td>\n",
              "      <td>1</td>\n",
              "      <td>1</td>\n",
              "      <td>1</td>\n",
              "      <td>0</td>\n",
              "      <td>1</td>\n",
              "      <td>0</td>\n",
              "    </tr>\n",
              "    <tr>\n",
              "      <th>7882868</th>\n",
              "      <td>1</td>\n",
              "      <td>1</td>\n",
              "      <td>0</td>\n",
              "      <td>1</td>\n",
              "      <td>1</td>\n",
              "      <td>1</td>\n",
              "      <td>1</td>\n",
              "      <td>1</td>\n",
              "      <td>0</td>\n",
              "      <td>1</td>\n",
              "    </tr>\n",
              "    <tr>\n",
              "      <th>7844642</th>\n",
              "      <td>1</td>\n",
              "      <td>1</td>\n",
              "      <td>1</td>\n",
              "      <td>1</td>\n",
              "      <td>1</td>\n",
              "      <td>0</td>\n",
              "      <td>0</td>\n",
              "      <td>1</td>\n",
              "      <td>1</td>\n",
              "      <td>1</td>\n",
              "    </tr>\n",
              "    <tr>\n",
              "      <th>7810362</th>\n",
              "      <td>1</td>\n",
              "      <td>1</td>\n",
              "      <td>1</td>\n",
              "      <td>1</td>\n",
              "      <td>1</td>\n",
              "      <td>0</td>\n",
              "      <td>0</td>\n",
              "      <td>1</td>\n",
              "      <td>1</td>\n",
              "      <td>1</td>\n",
              "    </tr>\n",
              "  </tbody>\n",
              "</table>\n",
              "</div>"
            ],
            "text/plain": [
              "         Когда Вы видите, слышите или представляете какую-либо букву или цифру, то это вызывает у Вас ощущение цвета, вкуса, фактуры и т.д.   ...  При взгляде на картину, обстановку или определенное расположение предметов у Вас возникает отчетливое ощущение вкуса во рту, запаха или звука?\n",
              "#                                                                                                                                             ...                                                                                                                                                \n",
              "8071510                                                  1                                                                                    ...                                                  1                                                                                             \n",
              "8056006                                                  1                                                                                    ...                                                  1                                                                                             \n",
              "7983378                                                  1                                                                                    ...                                                  1                                                                                             \n",
              "7960012                                                  1                                                                                    ...                                                  0                                                                                             \n",
              "7882868                                                  1                                                                                    ...                                                  1                                                                                             \n",
              "7844642                                                  1                                                                                    ...                                                  1                                                                                             \n",
              "7810362                                                  1                                                                                    ...                                                  1                                                                                             \n",
              "\n",
              "[7 rows x 10 columns]"
            ]
          },
          "metadata": {
            "tags": []
          },
          "execution_count": 21
        }
      ]
    },
    {
      "cell_type": "markdown",
      "metadata": {
        "id": "FEOTQRVnU0DA",
        "colab_type": "text"
      },
      "source": [
        "Третья группа реагирует с помощью цветовых ощущений на __символы__ - буквы, цифры, названия. Возможно, _понятийная синестезия_."
      ]
    },
    {
      "cell_type": "code",
      "metadata": {
        "id": "gjOboB6xU0DC",
        "colab_type": "code",
        "colab": {
          "base_uri": "https://localhost:8080/",
          "height": 661
        },
        "outputId": "b5f2d854-a341-43f4-8035-57cd089f082a"
      },
      "source": [
        "data.iloc[np.where(target_3d==2)[0],:]"
      ],
      "execution_count": 22,
      "outputs": [
        {
          "output_type": "execute_result",
          "data": {
            "text/html": [
              "<div>\n",
              "<style scoped>\n",
              "    .dataframe tbody tr th:only-of-type {\n",
              "        vertical-align: middle;\n",
              "    }\n",
              "\n",
              "    .dataframe tbody tr th {\n",
              "        vertical-align: top;\n",
              "    }\n",
              "\n",
              "    .dataframe thead th {\n",
              "        text-align: right;\n",
              "    }\n",
              "</style>\n",
              "<table border=\"1\" class=\"dataframe\">\n",
              "  <thead>\n",
              "    <tr style=\"text-align: right;\">\n",
              "      <th></th>\n",
              "      <th>Когда Вы видите, слышите или представляете какую-либо букву или цифру, то это вызывает у Вас ощущение цвета, вкуса, фактуры и т.д.</th>\n",
              "      <th>Названия дней недели (понедельник, вторник и т.д.) или месяцев (январь, февраль и т.д.) вызывают ли у Вас ощущение цвета?</th>\n",
              "      <th>Числа, буквы и/или названия интервалов времени, такие как дни недели и месяцы, мысленно представляются ли Вам в виде последовательности, располагающейся в трехмерном пространстве?</th>\n",
              "      <th>Звучание отдельных звуков, аккордов или мелодий, сыгранных на определенном музыкальном инструменте, вызывают ли у Вас ощущения цвета?</th>\n",
              "      <th>Числа, буквы и/или названия интервалов времени, такие как дни недели и месяцы, мысленно представляются ли Вам в виде отдельных качеств человека (добродушный, щедрый и т.д.) или в виде целой личности (веселый лысый старик, стремительная женщина и т.д.)?</th>\n",
              "      <th>Испытывая боль (например, головную), эмоции (сожаление или печаль) или оргазм, Вы переживаете ощущение цвета, вкуса или аромата?</th>\n",
              "      <th>При непосредственном взгляде на человека или при мысли о нем Вы ощущаете определенный цвет или целую гамму разных оттенков?</th>\n",
              "      <th>Прикосновение разного характера к различным частям Вашего тела сопровождается для Вас ощущением цвета. Например, при прикосновении к холодной или теплой воде Вы испытываете ощущение различной цветовой гаммы?</th>\n",
              "      <th>Определенный звук вызывает у Вас отчетливое ощущение вкуса, запаха или прикосновения. Например, при звуке тикающих часов у Вас во рту возникает кисловатый привкус или при звуке пролетающего самолета у Вас возникает отчетливое ощущение прикосновения?</th>\n",
              "      <th>При взгляде на картину, обстановку или определенное расположение предметов у Вас возникает отчетливое ощущение вкуса во рту, запаха или звука?</th>\n",
              "    </tr>\n",
              "    <tr>\n",
              "      <th>#</th>\n",
              "      <th></th>\n",
              "      <th></th>\n",
              "      <th></th>\n",
              "      <th></th>\n",
              "      <th></th>\n",
              "      <th></th>\n",
              "      <th></th>\n",
              "      <th></th>\n",
              "      <th></th>\n",
              "      <th></th>\n",
              "    </tr>\n",
              "  </thead>\n",
              "  <tbody>\n",
              "    <tr>\n",
              "      <th>8048214</th>\n",
              "      <td>1</td>\n",
              "      <td>1</td>\n",
              "      <td>1</td>\n",
              "      <td>0</td>\n",
              "      <td>0</td>\n",
              "      <td>0</td>\n",
              "      <td>1</td>\n",
              "      <td>0</td>\n",
              "      <td>0</td>\n",
              "      <td>0</td>\n",
              "    </tr>\n",
              "    <tr>\n",
              "      <th>7884705</th>\n",
              "      <td>1</td>\n",
              "      <td>1</td>\n",
              "      <td>1</td>\n",
              "      <td>0</td>\n",
              "      <td>0</td>\n",
              "      <td>0</td>\n",
              "      <td>0</td>\n",
              "      <td>0</td>\n",
              "      <td>0</td>\n",
              "      <td>0</td>\n",
              "    </tr>\n",
              "    <tr>\n",
              "      <th>7805935</th>\n",
              "      <td>1</td>\n",
              "      <td>1</td>\n",
              "      <td>1</td>\n",
              "      <td>0</td>\n",
              "      <td>0</td>\n",
              "      <td>1</td>\n",
              "      <td>1</td>\n",
              "      <td>0</td>\n",
              "      <td>0</td>\n",
              "      <td>0</td>\n",
              "    </tr>\n",
              "    <tr>\n",
              "      <th>7794496</th>\n",
              "      <td>1</td>\n",
              "      <td>1</td>\n",
              "      <td>0</td>\n",
              "      <td>1</td>\n",
              "      <td>0</td>\n",
              "      <td>0</td>\n",
              "      <td>0</td>\n",
              "      <td>0</td>\n",
              "      <td>0</td>\n",
              "      <td>0</td>\n",
              "    </tr>\n",
              "    <tr>\n",
              "      <th>7761285</th>\n",
              "      <td>1</td>\n",
              "      <td>1</td>\n",
              "      <td>1</td>\n",
              "      <td>0</td>\n",
              "      <td>0</td>\n",
              "      <td>0</td>\n",
              "      <td>0</td>\n",
              "      <td>0</td>\n",
              "      <td>0</td>\n",
              "      <td>0</td>\n",
              "    </tr>\n",
              "    <tr>\n",
              "      <th>7757470</th>\n",
              "      <td>1</td>\n",
              "      <td>1</td>\n",
              "      <td>0</td>\n",
              "      <td>0</td>\n",
              "      <td>0</td>\n",
              "      <td>0</td>\n",
              "      <td>1</td>\n",
              "      <td>0</td>\n",
              "      <td>0</td>\n",
              "      <td>0</td>\n",
              "    </tr>\n",
              "    <tr>\n",
              "      <th>7738845</th>\n",
              "      <td>1</td>\n",
              "      <td>1</td>\n",
              "      <td>0</td>\n",
              "      <td>1</td>\n",
              "      <td>1</td>\n",
              "      <td>0</td>\n",
              "      <td>0</td>\n",
              "      <td>0</td>\n",
              "      <td>0</td>\n",
              "      <td>0</td>\n",
              "    </tr>\n",
              "  </tbody>\n",
              "</table>\n",
              "</div>"
            ],
            "text/plain": [
              "         Когда Вы видите, слышите или представляете какую-либо букву или цифру, то это вызывает у Вас ощущение цвета, вкуса, фактуры и т.д.   ...  При взгляде на картину, обстановку или определенное расположение предметов у Вас возникает отчетливое ощущение вкуса во рту, запаха или звука?\n",
              "#                                                                                                                                             ...                                                                                                                                                \n",
              "8048214                                                  1                                                                                    ...                                                  0                                                                                             \n",
              "7884705                                                  1                                                                                    ...                                                  0                                                                                             \n",
              "7805935                                                  1                                                                                    ...                                                  0                                                                                             \n",
              "7794496                                                  1                                                                                    ...                                                  0                                                                                             \n",
              "7761285                                                  1                                                                                    ...                                                  0                                                                                             \n",
              "7757470                                                  1                                                                                    ...                                                  0                                                                                             \n",
              "7738845                                                  1                                                                                    ...                                                  0                                                                                             \n",
              "\n",
              "[7 rows x 10 columns]"
            ]
          },
          "metadata": {
            "tags": []
          },
          "execution_count": 22
        }
      ]
    },
    {
      "cell_type": "markdown",
      "metadata": {
        "id": "qV28OqErU0DI",
        "colab_type": "text"
      },
      "source": [
        "### Комментарии"
      ]
    },
    {
      "cell_type": "markdown",
      "metadata": {
        "id": "vqsItk7yU0DK",
        "colab_type": "text"
      },
      "source": [
        "Многие реакции проявляются одинаково независимо от источника стимула (слух, зрение, осязание), что может подтверждать гипотезу отсутствия привязки типа реакции к типу возбуждения."
      ]
    },
    {
      "cell_type": "code",
      "metadata": {
        "id": "Yme3nC1tU0DM",
        "colab_type": "code",
        "colab": {}
      },
      "source": [
        ""
      ],
      "execution_count": 22,
      "outputs": []
    }
  ]
}